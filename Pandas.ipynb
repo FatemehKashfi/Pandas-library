{
 "cells": [
  {
   "cell_type": "markdown",
   "id": "cf9ebe8d-4281-440e-8573-60c69ddcb7ac",
   "metadata": {},
   "source": [
    "<div> <h1> Pandas Library </h1>\n",
    "</div>\n",
    "<a href = \"https://pandas.pydata.org/\" > Reference</a>"
   ]
  },
  {
   "cell_type": "markdown",
   "id": "015cb219-1dd8-4ec6-829b-e4f230bd6e6c",
   "metadata": {},
   "source": [
    "<div> <h3> Pandas is a powerful and widely-used open-source library in Python for data manipulation and analysis. It provides two main data structures: Series (1-dimensional) and DataFrame (2-dimensional). \n",
    "</h3>\n",
    "</div>"
   ]
  },
  {
   "cell_type": "code",
   "execution_count": 382,
   "id": "714b6801-9a1e-4a95-b656-36ba75980d71",
   "metadata": {},
   "outputs": [],
   "source": [
    "import numpy as np\n",
    "import pandas as pd"
   ]
  },
  {
   "cell_type": "code",
   "execution_count": 384,
   "id": "2efdab25-6df2-4d00-9391-557fbcc814f4",
   "metadata": {},
   "outputs": [
    {
     "data": {
      "text/plain": [
       "0    1.0\n",
       "1    3.0\n",
       "2    5.0\n",
       "3    NaN\n",
       "4    6.0\n",
       "5    8.0\n",
       "dtype: float64"
      ]
     },
     "execution_count": 384,
     "metadata": {},
     "output_type": "execute_result"
    }
   ],
   "source": [
    "#Series\n",
    "s = pd.Series([1, 3, 5, np.nan, 6, 8])\n",
    "s"
   ]
  },
  {
   "cell_type": "code",
   "execution_count": 390,
   "id": "8bc59a8f-7ff6-4c8b-bccb-1f7f42329506",
   "metadata": {},
   "outputs": [],
   "source": [
    "#my_df = pd.DataFrame(data=None, index: 'Axes | None' = None, \n",
    "#                     columns: 'Axes | None' = None, dtype: 'Dtype | None' = None, \n",
    "#                    copy: 'bool | None' = None)"
   ]
  },
  {
   "cell_type": "code",
   "execution_count": 392,
   "id": "85bdc307-dcb0-47e2-89e4-da00fd1623d8",
   "metadata": {},
   "outputs": [
    {
     "data": {
      "text/plain": [
       "DatetimeIndex(['2025-01-01', '2025-01-02', '2025-01-03', '2025-01-04',\n",
       "               '2025-01-05', '2025-01-06', '2025-01-07', '2025-01-08',\n",
       "               '2025-01-09', '2025-01-10'],\n",
       "              dtype='datetime64[ns]', freq='D')"
      ]
     },
     "execution_count": 392,
     "metadata": {},
     "output_type": "execute_result"
    }
   ],
   "source": [
    "#DataFrame & List\n",
    "dates = pd.date_range(\"20250101\", periods=10)\n",
    "dates"
   ]
  },
  {
   "cell_type": "code",
   "execution_count": 394,
   "id": "82c95ce5-e8df-45b5-941e-a3a7d4b1c5d9",
   "metadata": {},
   "outputs": [
    {
     "data": {
      "text/html": [
       "<div>\n",
       "<style scoped>\n",
       "    .dataframe tbody tr th:only-of-type {\n",
       "        vertical-align: middle;\n",
       "    }\n",
       "\n",
       "    .dataframe tbody tr th {\n",
       "        vertical-align: top;\n",
       "    }\n",
       "\n",
       "    .dataframe thead th {\n",
       "        text-align: right;\n",
       "    }\n",
       "</style>\n",
       "<table border=\"1\" class=\"dataframe\">\n",
       "  <thead>\n",
       "    <tr style=\"text-align: right;\">\n",
       "      <th></th>\n",
       "      <th>X</th>\n",
       "      <th>Y</th>\n",
       "      <th>Z</th>\n",
       "    </tr>\n",
       "  </thead>\n",
       "  <tbody>\n",
       "    <tr>\n",
       "      <th>2025-01-01</th>\n",
       "      <td>1.255237</td>\n",
       "      <td>0.745816</td>\n",
       "      <td>0.044265</td>\n",
       "    </tr>\n",
       "    <tr>\n",
       "      <th>2025-01-02</th>\n",
       "      <td>-0.638625</td>\n",
       "      <td>-2.288898</td>\n",
       "      <td>0.976653</td>\n",
       "    </tr>\n",
       "    <tr>\n",
       "      <th>2025-01-03</th>\n",
       "      <td>1.389224</td>\n",
       "      <td>-1.918962</td>\n",
       "      <td>0.257473</td>\n",
       "    </tr>\n",
       "    <tr>\n",
       "      <th>2025-01-04</th>\n",
       "      <td>0.549633</td>\n",
       "      <td>-0.598228</td>\n",
       "      <td>-0.904476</td>\n",
       "    </tr>\n",
       "    <tr>\n",
       "      <th>2025-01-05</th>\n",
       "      <td>0.232104</td>\n",
       "      <td>-0.818591</td>\n",
       "      <td>0.711248</td>\n",
       "    </tr>\n",
       "    <tr>\n",
       "      <th>2025-01-06</th>\n",
       "      <td>0.926906</td>\n",
       "      <td>-1.657328</td>\n",
       "      <td>-0.976052</td>\n",
       "    </tr>\n",
       "    <tr>\n",
       "      <th>2025-01-07</th>\n",
       "      <td>2.282090</td>\n",
       "      <td>0.178209</td>\n",
       "      <td>-1.503018</td>\n",
       "    </tr>\n",
       "    <tr>\n",
       "      <th>2025-01-08</th>\n",
       "      <td>1.488978</td>\n",
       "      <td>0.335247</td>\n",
       "      <td>1.229124</td>\n",
       "    </tr>\n",
       "    <tr>\n",
       "      <th>2025-01-09</th>\n",
       "      <td>-0.461400</td>\n",
       "      <td>-1.761327</td>\n",
       "      <td>-1.595415</td>\n",
       "    </tr>\n",
       "    <tr>\n",
       "      <th>2025-01-10</th>\n",
       "      <td>-1.405313</td>\n",
       "      <td>-0.263177</td>\n",
       "      <td>0.077077</td>\n",
       "    </tr>\n",
       "  </tbody>\n",
       "</table>\n",
       "</div>"
      ],
      "text/plain": [
       "                   X         Y         Z\n",
       "2025-01-01  1.255237  0.745816  0.044265\n",
       "2025-01-02 -0.638625 -2.288898  0.976653\n",
       "2025-01-03  1.389224 -1.918962  0.257473\n",
       "2025-01-04  0.549633 -0.598228 -0.904476\n",
       "2025-01-05  0.232104 -0.818591  0.711248\n",
       "2025-01-06  0.926906 -1.657328 -0.976052\n",
       "2025-01-07  2.282090  0.178209 -1.503018\n",
       "2025-01-08  1.488978  0.335247  1.229124\n",
       "2025-01-09 -0.461400 -1.761327 -1.595415\n",
       "2025-01-10 -1.405313 -0.263177  0.077077"
      ]
     },
     "execution_count": 394,
     "metadata": {},
     "output_type": "execute_result"
    }
   ],
   "source": [
    "df = pd.DataFrame(np.random.randn(10, 3), index=dates, columns=list(\"XYZ\"))\n",
    "df"
   ]
  },
  {
   "cell_type": "code",
   "execution_count": 396,
   "id": "c57e989b-2014-411e-8eef-dc6b3d94ce6c",
   "metadata": {},
   "outputs": [
    {
     "data": {
      "text/html": [
       "<div>\n",
       "<style scoped>\n",
       "    .dataframe tbody tr th:only-of-type {\n",
       "        vertical-align: middle;\n",
       "    }\n",
       "\n",
       "    .dataframe tbody tr th {\n",
       "        vertical-align: top;\n",
       "    }\n",
       "\n",
       "    .dataframe thead th {\n",
       "        text-align: right;\n",
       "    }\n",
       "</style>\n",
       "<table border=\"1\" class=\"dataframe\">\n",
       "  <thead>\n",
       "    <tr style=\"text-align: right;\">\n",
       "      <th></th>\n",
       "      <th>Country</th>\n",
       "      <th>Date</th>\n",
       "      <th>Capital</th>\n",
       "      <th>D</th>\n",
       "      <th>Category</th>\n",
       "    </tr>\n",
       "  </thead>\n",
       "  <tbody>\n",
       "    <tr>\n",
       "      <th>0</th>\n",
       "      <td>Iran</td>\n",
       "      <td>2025-01-02</td>\n",
       "      <td>Tehran</td>\n",
       "      <td>3</td>\n",
       "      <td>test</td>\n",
       "    </tr>\n",
       "    <tr>\n",
       "      <th>1</th>\n",
       "      <td>USA</td>\n",
       "      <td>2025-01-02</td>\n",
       "      <td>NY</td>\n",
       "      <td>3</td>\n",
       "      <td>train</td>\n",
       "    </tr>\n",
       "    <tr>\n",
       "      <th>2</th>\n",
       "      <td>UK</td>\n",
       "      <td>2025-01-02</td>\n",
       "      <td>London</td>\n",
       "      <td>3</td>\n",
       "      <td>test</td>\n",
       "    </tr>\n",
       "    <tr>\n",
       "      <th>3</th>\n",
       "      <td>Germany</td>\n",
       "      <td>2025-01-02</td>\n",
       "      <td>Berlin</td>\n",
       "      <td>3</td>\n",
       "      <td>train</td>\n",
       "    </tr>\n",
       "    <tr>\n",
       "      <th>4</th>\n",
       "      <td>Turkey</td>\n",
       "      <td>2025-01-02</td>\n",
       "      <td>Istanbul</td>\n",
       "      <td>3</td>\n",
       "      <td>Train</td>\n",
       "    </tr>\n",
       "  </tbody>\n",
       "</table>\n",
       "</div>"
      ],
      "text/plain": [
       "   Country       Date   Capital  D Category\n",
       "0     Iran 2025-01-02    Tehran  3     test\n",
       "1      USA 2025-01-02        NY  3    train\n",
       "2       UK 2025-01-02    London  3     test\n",
       "3  Germany 2025-01-02    Berlin  3    train\n",
       "4   Turkey 2025-01-02  Istanbul  3    Train"
      ]
     },
     "execution_count": 396,
     "metadata": {},
     "output_type": "execute_result"
    }
   ],
   "source": [
    "#DataFrame & Dictionary\n",
    "df2 = pd.DataFrame(\n",
    "    {\n",
    "        \"Country\": [\"Iran\", \"USA\", \"UK\", \"Germany\", \"Turkey\"],\n",
    "        \"Date\": pd.Timestamp(\"20250102\"),\n",
    "        \"Capital\": [\"Tehran\", \"NY\", \"London\", \"Berlin\", \"Istanbul\"],\n",
    "        \"D\": np.array([3] * 5, dtype=\"int32\"),\n",
    "        \"Category\": pd.Categorical([\"test\", \"train\", \"test\", \"train\", \"Train\"]),\n",
    "    }\n",
    ")\n",
    "df2"
   ]
  },
  {
   "cell_type": "code",
   "execution_count": 398,
   "id": "773512de-53d0-4677-b31e-0adf4f93b5ad",
   "metadata": {},
   "outputs": [
    {
     "data": {
      "text/plain": [
       "RangeIndex(start=0, stop=5, step=1)"
      ]
     },
     "execution_count": 398,
     "metadata": {},
     "output_type": "execute_result"
    }
   ],
   "source": [
    "df2.index"
   ]
  },
  {
   "cell_type": "code",
   "execution_count": 400,
   "id": "27e0b581-c332-49c5-b9f3-d20283f879a4",
   "metadata": {},
   "outputs": [
    {
     "data": {
      "text/plain": [
       "Index(['X', 'Y', 'Z'], dtype='object')"
      ]
     },
     "execution_count": 400,
     "metadata": {},
     "output_type": "execute_result"
    }
   ],
   "source": [
    "df.columns"
   ]
  },
  {
   "cell_type": "code",
   "execution_count": 402,
   "id": "d50e3143-b5f9-4f0a-8837-3e93cfb025ef",
   "metadata": {},
   "outputs": [
    {
     "data": {
      "text/html": [
       "<div>\n",
       "<style scoped>\n",
       "    .dataframe tbody tr th:only-of-type {\n",
       "        vertical-align: middle;\n",
       "    }\n",
       "\n",
       "    .dataframe tbody tr th {\n",
       "        vertical-align: top;\n",
       "    }\n",
       "\n",
       "    .dataframe thead th {\n",
       "        text-align: right;\n",
       "    }\n",
       "</style>\n",
       "<table border=\"1\" class=\"dataframe\">\n",
       "  <thead>\n",
       "    <tr style=\"text-align: right;\">\n",
       "      <th></th>\n",
       "      <th>X</th>\n",
       "      <th>Y</th>\n",
       "      <th>Z</th>\n",
       "    </tr>\n",
       "  </thead>\n",
       "  <tbody>\n",
       "    <tr>\n",
       "      <th>count</th>\n",
       "      <td>10.000000</td>\n",
       "      <td>10.000000</td>\n",
       "      <td>10.000000</td>\n",
       "    </tr>\n",
       "    <tr>\n",
       "      <th>mean</th>\n",
       "      <td>0.561884</td>\n",
       "      <td>-0.804724</td>\n",
       "      <td>-0.168312</td>\n",
       "    </tr>\n",
       "    <tr>\n",
       "      <th>std</th>\n",
       "      <td>1.134518</td>\n",
       "      <td>1.058946</td>\n",
       "      <td>1.018525</td>\n",
       "    </tr>\n",
       "    <tr>\n",
       "      <th>min</th>\n",
       "      <td>-1.405313</td>\n",
       "      <td>-2.288898</td>\n",
       "      <td>-1.595415</td>\n",
       "    </tr>\n",
       "    <tr>\n",
       "      <th>25%</th>\n",
       "      <td>-0.288024</td>\n",
       "      <td>-1.735327</td>\n",
       "      <td>-0.958158</td>\n",
       "    </tr>\n",
       "    <tr>\n",
       "      <th>50%</th>\n",
       "      <td>0.738270</td>\n",
       "      <td>-0.708409</td>\n",
       "      <td>0.060671</td>\n",
       "    </tr>\n",
       "    <tr>\n",
       "      <th>75%</th>\n",
       "      <td>1.355727</td>\n",
       "      <td>0.067863</td>\n",
       "      <td>0.597804</td>\n",
       "    </tr>\n",
       "    <tr>\n",
       "      <th>max</th>\n",
       "      <td>2.282090</td>\n",
       "      <td>0.745816</td>\n",
       "      <td>1.229124</td>\n",
       "    </tr>\n",
       "  </tbody>\n",
       "</table>\n",
       "</div>"
      ],
      "text/plain": [
       "               X          Y          Z\n",
       "count  10.000000  10.000000  10.000000\n",
       "mean    0.561884  -0.804724  -0.168312\n",
       "std     1.134518   1.058946   1.018525\n",
       "min    -1.405313  -2.288898  -1.595415\n",
       "25%    -0.288024  -1.735327  -0.958158\n",
       "50%     0.738270  -0.708409   0.060671\n",
       "75%     1.355727   0.067863   0.597804\n",
       "max     2.282090   0.745816   1.229124"
      ]
     },
     "execution_count": 402,
     "metadata": {},
     "output_type": "execute_result"
    }
   ],
   "source": [
    "#statistic Summary\n",
    "df.describe()"
   ]
  },
  {
   "cell_type": "code",
   "execution_count": 410,
   "id": "6cf08f4c-75b4-475c-bcdc-6c51d255f1f1",
   "metadata": {},
   "outputs": [
    {
     "data": {
      "text/html": [
       "<div>\n",
       "<style scoped>\n",
       "    .dataframe tbody tr th:only-of-type {\n",
       "        vertical-align: middle;\n",
       "    }\n",
       "\n",
       "    .dataframe tbody tr th {\n",
       "        vertical-align: top;\n",
       "    }\n",
       "\n",
       "    .dataframe thead th {\n",
       "        text-align: right;\n",
       "    }\n",
       "</style>\n",
       "<table border=\"1\" class=\"dataframe\">\n",
       "  <thead>\n",
       "    <tr style=\"text-align: right;\">\n",
       "      <th></th>\n",
       "      <th>X</th>\n",
       "      <th>Y</th>\n",
       "      <th>Z</th>\n",
       "    </tr>\n",
       "  </thead>\n",
       "  <tbody>\n",
       "    <tr>\n",
       "      <th>2025-01-10</th>\n",
       "      <td>-1.405313</td>\n",
       "      <td>-0.263177</td>\n",
       "      <td>0.077077</td>\n",
       "    </tr>\n",
       "    <tr>\n",
       "      <th>2025-01-09</th>\n",
       "      <td>-0.461400</td>\n",
       "      <td>-1.761327</td>\n",
       "      <td>-1.595415</td>\n",
       "    </tr>\n",
       "    <tr>\n",
       "      <th>2025-01-08</th>\n",
       "      <td>1.488978</td>\n",
       "      <td>0.335247</td>\n",
       "      <td>1.229124</td>\n",
       "    </tr>\n",
       "    <tr>\n",
       "      <th>2025-01-07</th>\n",
       "      <td>2.282090</td>\n",
       "      <td>0.178209</td>\n",
       "      <td>-1.503018</td>\n",
       "    </tr>\n",
       "    <tr>\n",
       "      <th>2025-01-06</th>\n",
       "      <td>0.926906</td>\n",
       "      <td>-1.657328</td>\n",
       "      <td>-0.976052</td>\n",
       "    </tr>\n",
       "    <tr>\n",
       "      <th>2025-01-05</th>\n",
       "      <td>0.232104</td>\n",
       "      <td>-0.818591</td>\n",
       "      <td>0.711248</td>\n",
       "    </tr>\n",
       "    <tr>\n",
       "      <th>2025-01-04</th>\n",
       "      <td>0.549633</td>\n",
       "      <td>-0.598228</td>\n",
       "      <td>-0.904476</td>\n",
       "    </tr>\n",
       "    <tr>\n",
       "      <th>2025-01-03</th>\n",
       "      <td>1.389224</td>\n",
       "      <td>-1.918962</td>\n",
       "      <td>0.257473</td>\n",
       "    </tr>\n",
       "    <tr>\n",
       "      <th>2025-01-02</th>\n",
       "      <td>-0.638625</td>\n",
       "      <td>-2.288898</td>\n",
       "      <td>0.976653</td>\n",
       "    </tr>\n",
       "    <tr>\n",
       "      <th>2025-01-01</th>\n",
       "      <td>1.255237</td>\n",
       "      <td>0.745816</td>\n",
       "      <td>0.044265</td>\n",
       "    </tr>\n",
       "  </tbody>\n",
       "</table>\n",
       "</div>"
      ],
      "text/plain": [
       "                   X         Y         Z\n",
       "2025-01-10 -1.405313 -0.263177  0.077077\n",
       "2025-01-09 -0.461400 -1.761327 -1.595415\n",
       "2025-01-08  1.488978  0.335247  1.229124\n",
       "2025-01-07  2.282090  0.178209 -1.503018\n",
       "2025-01-06  0.926906 -1.657328 -0.976052\n",
       "2025-01-05  0.232104 -0.818591  0.711248\n",
       "2025-01-04  0.549633 -0.598228 -0.904476\n",
       "2025-01-03  1.389224 -1.918962  0.257473\n",
       "2025-01-02 -0.638625 -2.288898  0.976653\n",
       "2025-01-01  1.255237  0.745816  0.044265"
      ]
     },
     "execution_count": 410,
     "metadata": {},
     "output_type": "execute_result"
    }
   ],
   "source": [
    "df.sort_index(axis=0, ascending = False)"
   ]
  },
  {
   "cell_type": "code",
   "execution_count": 412,
   "id": "6edf975d-05de-4230-87df-725c32efcc36",
   "metadata": {},
   "outputs": [
    {
     "data": {
      "text/plain": [
       "<bound method DataFrame.sort_values of    Country       Date   Capital  D Category\n",
       "0     Iran 2025-01-02    Tehran  3     test\n",
       "1      USA 2025-01-02        NY  3    train\n",
       "2       UK 2025-01-02    London  3     test\n",
       "3  Germany 2025-01-02    Berlin  3    train\n",
       "4   Turkey 2025-01-02  Istanbul  3    Train>"
      ]
     },
     "execution_count": 412,
     "metadata": {},
     "output_type": "execute_result"
    }
   ],
   "source": [
    "df2.sort_values"
   ]
  },
  {
   "cell_type": "code",
   "execution_count": 414,
   "id": "45c6f873-b7be-46a2-b5c4-af9a5c838366",
   "metadata": {},
   "outputs": [
    {
     "data": {
      "text/html": [
       "<div>\n",
       "<style scoped>\n",
       "    .dataframe tbody tr th:only-of-type {\n",
       "        vertical-align: middle;\n",
       "    }\n",
       "\n",
       "    .dataframe tbody tr th {\n",
       "        vertical-align: top;\n",
       "    }\n",
       "\n",
       "    .dataframe thead th {\n",
       "        text-align: right;\n",
       "    }\n",
       "</style>\n",
       "<table border=\"1\" class=\"dataframe\">\n",
       "  <thead>\n",
       "    <tr style=\"text-align: right;\">\n",
       "      <th></th>\n",
       "      <th>X</th>\n",
       "      <th>Y</th>\n",
       "      <th>Z</th>\n",
       "    </tr>\n",
       "  </thead>\n",
       "  <tbody>\n",
       "    <tr>\n",
       "      <th>2025-01-10</th>\n",
       "      <td>-1.405313</td>\n",
       "      <td>-0.263177</td>\n",
       "      <td>0.077077</td>\n",
       "    </tr>\n",
       "    <tr>\n",
       "      <th>2025-01-02</th>\n",
       "      <td>-0.638625</td>\n",
       "      <td>-2.288898</td>\n",
       "      <td>0.976653</td>\n",
       "    </tr>\n",
       "    <tr>\n",
       "      <th>2025-01-09</th>\n",
       "      <td>-0.461400</td>\n",
       "      <td>-1.761327</td>\n",
       "      <td>-1.595415</td>\n",
       "    </tr>\n",
       "    <tr>\n",
       "      <th>2025-01-05</th>\n",
       "      <td>0.232104</td>\n",
       "      <td>-0.818591</td>\n",
       "      <td>0.711248</td>\n",
       "    </tr>\n",
       "    <tr>\n",
       "      <th>2025-01-04</th>\n",
       "      <td>0.549633</td>\n",
       "      <td>-0.598228</td>\n",
       "      <td>-0.904476</td>\n",
       "    </tr>\n",
       "    <tr>\n",
       "      <th>2025-01-06</th>\n",
       "      <td>0.926906</td>\n",
       "      <td>-1.657328</td>\n",
       "      <td>-0.976052</td>\n",
       "    </tr>\n",
       "    <tr>\n",
       "      <th>2025-01-01</th>\n",
       "      <td>1.255237</td>\n",
       "      <td>0.745816</td>\n",
       "      <td>0.044265</td>\n",
       "    </tr>\n",
       "    <tr>\n",
       "      <th>2025-01-03</th>\n",
       "      <td>1.389224</td>\n",
       "      <td>-1.918962</td>\n",
       "      <td>0.257473</td>\n",
       "    </tr>\n",
       "    <tr>\n",
       "      <th>2025-01-08</th>\n",
       "      <td>1.488978</td>\n",
       "      <td>0.335247</td>\n",
       "      <td>1.229124</td>\n",
       "    </tr>\n",
       "    <tr>\n",
       "      <th>2025-01-07</th>\n",
       "      <td>2.282090</td>\n",
       "      <td>0.178209</td>\n",
       "      <td>-1.503018</td>\n",
       "    </tr>\n",
       "  </tbody>\n",
       "</table>\n",
       "</div>"
      ],
      "text/plain": [
       "                   X         Y         Z\n",
       "2025-01-10 -1.405313 -0.263177  0.077077\n",
       "2025-01-02 -0.638625 -2.288898  0.976653\n",
       "2025-01-09 -0.461400 -1.761327 -1.595415\n",
       "2025-01-05  0.232104 -0.818591  0.711248\n",
       "2025-01-04  0.549633 -0.598228 -0.904476\n",
       "2025-01-06  0.926906 -1.657328 -0.976052\n",
       "2025-01-01  1.255237  0.745816  0.044265\n",
       "2025-01-03  1.389224 -1.918962  0.257473\n",
       "2025-01-08  1.488978  0.335247  1.229124\n",
       "2025-01-07  2.282090  0.178209 -1.503018"
      ]
     },
     "execution_count": 414,
     "metadata": {},
     "output_type": "execute_result"
    }
   ],
   "source": [
    "df.sort_values(by=\"X\")"
   ]
  },
  {
   "cell_type": "code",
   "execution_count": 416,
   "id": "63f5c043-2cbb-4ede-b996-e2745b71c104",
   "metadata": {},
   "outputs": [
    {
     "data": {
      "text/plain": [
       "2025-01-01    1.255237\n",
       "2025-01-02   -0.638625\n",
       "2025-01-03    1.389224\n",
       "2025-01-04    0.549633\n",
       "2025-01-05    0.232104\n",
       "2025-01-06    0.926906\n",
       "2025-01-07    2.282090\n",
       "2025-01-08    1.488978\n",
       "2025-01-09   -0.461400\n",
       "2025-01-10   -1.405313\n",
       "Freq: D, Name: X, dtype: float64"
      ]
     },
     "execution_count": 416,
     "metadata": {},
     "output_type": "execute_result"
    }
   ],
   "source": [
    "# how to select a column\n",
    "xx = df.X\n",
    "xx"
   ]
  },
  {
   "cell_type": "code",
   "execution_count": 418,
   "id": "8dde687a-b538-427e-a190-13a711caa4d2",
   "metadata": {},
   "outputs": [
    {
     "data": {
      "text/plain": [
       "pandas.core.series.Series"
      ]
     },
     "execution_count": 418,
     "metadata": {},
     "output_type": "execute_result"
    }
   ],
   "source": [
    "type(xx)"
   ]
  },
  {
   "cell_type": "code",
   "execution_count": 420,
   "id": "2e61735a-d4bc-4412-b551-735a580067e7",
   "metadata": {},
   "outputs": [
    {
     "data": {
      "text/html": [
       "<div>\n",
       "<style scoped>\n",
       "    .dataframe tbody tr th:only-of-type {\n",
       "        vertical-align: middle;\n",
       "    }\n",
       "\n",
       "    .dataframe tbody tr th {\n",
       "        vertical-align: top;\n",
       "    }\n",
       "\n",
       "    .dataframe thead th {\n",
       "        text-align: right;\n",
       "    }\n",
       "</style>\n",
       "<table border=\"1\" class=\"dataframe\">\n",
       "  <thead>\n",
       "    <tr style=\"text-align: right;\">\n",
       "      <th></th>\n",
       "      <th>X</th>\n",
       "      <th>Y</th>\n",
       "      <th>Z</th>\n",
       "    </tr>\n",
       "  </thead>\n",
       "  <tbody>\n",
       "    <tr>\n",
       "      <th>2025-01-05</th>\n",
       "      <td>0.232104</td>\n",
       "      <td>-0.818591</td>\n",
       "      <td>0.711248</td>\n",
       "    </tr>\n",
       "    <tr>\n",
       "      <th>2025-01-06</th>\n",
       "      <td>0.926906</td>\n",
       "      <td>-1.657328</td>\n",
       "      <td>-0.976052</td>\n",
       "    </tr>\n",
       "    <tr>\n",
       "      <th>2025-01-07</th>\n",
       "      <td>2.282090</td>\n",
       "      <td>0.178209</td>\n",
       "      <td>-1.503018</td>\n",
       "    </tr>\n",
       "    <tr>\n",
       "      <th>2025-01-08</th>\n",
       "      <td>1.488978</td>\n",
       "      <td>0.335247</td>\n",
       "      <td>1.229124</td>\n",
       "    </tr>\n",
       "    <tr>\n",
       "      <th>2025-01-09</th>\n",
       "      <td>-0.461400</td>\n",
       "      <td>-1.761327</td>\n",
       "      <td>-1.595415</td>\n",
       "    </tr>\n",
       "    <tr>\n",
       "      <th>2025-01-10</th>\n",
       "      <td>-1.405313</td>\n",
       "      <td>-0.263177</td>\n",
       "      <td>0.077077</td>\n",
       "    </tr>\n",
       "  </tbody>\n",
       "</table>\n",
       "</div>"
      ],
      "text/plain": [
       "                   X         Y         Z\n",
       "2025-01-05  0.232104 -0.818591  0.711248\n",
       "2025-01-06  0.926906 -1.657328 -0.976052\n",
       "2025-01-07  2.282090  0.178209 -1.503018\n",
       "2025-01-08  1.488978  0.335247  1.229124\n",
       "2025-01-09 -0.461400 -1.761327 -1.595415\n",
       "2025-01-10 -1.405313 -0.263177  0.077077"
      ]
     },
     "execution_count": 420,
     "metadata": {},
     "output_type": "execute_result"
    }
   ],
   "source": [
    "df[4:]"
   ]
  },
  {
   "cell_type": "markdown",
   "id": "f02fa343-5fb9-4bc1-b1ce-031eb7719d15",
   "metadata": {},
   "source": [
    "<div>\n",
    "    <h2>Selection by label</h2>\n",
    "</div>"
   ]
  },
  {
   "cell_type": "code",
   "execution_count": 423,
   "id": "aa8e8bfd-ebb1-45af-b5cc-7850815d305b",
   "metadata": {},
   "outputs": [
    {
     "data": {
      "text/plain": [
       "X    1.255237\n",
       "Y    0.745816\n",
       "Z    0.044265\n",
       "Name: 2025-01-01 00:00:00, dtype: float64"
      ]
     },
     "execution_count": 423,
     "metadata": {},
     "output_type": "execute_result"
    }
   ],
   "source": [
    "i = df.loc[dates[0]]\n",
    "i"
   ]
  },
  {
   "cell_type": "code",
   "execution_count": 425,
   "id": "a78b5857-f9e9-4986-a53a-0ec887bf04cd",
   "metadata": {},
   "outputs": [
    {
     "data": {
      "text/plain": [
       "Country                      UK\n",
       "Date        2025-01-02 00:00:00\n",
       "Capital                  London\n",
       "D                             3\n",
       "Category                   test\n",
       "Name: 2, dtype: object"
      ]
     },
     "execution_count": 425,
     "metadata": {},
     "output_type": "execute_result"
    }
   ],
   "source": [
    "df2.loc[2]"
   ]
  },
  {
   "cell_type": "code",
   "execution_count": 427,
   "id": "e3bff409-cfbf-492c-a04d-8ab0eed4fd7a",
   "metadata": {},
   "outputs": [
    {
     "data": {
      "text/html": [
       "<div>\n",
       "<style scoped>\n",
       "    .dataframe tbody tr th:only-of-type {\n",
       "        vertical-align: middle;\n",
       "    }\n",
       "\n",
       "    .dataframe tbody tr th {\n",
       "        vertical-align: top;\n",
       "    }\n",
       "\n",
       "    .dataframe thead th {\n",
       "        text-align: right;\n",
       "    }\n",
       "</style>\n",
       "<table border=\"1\" class=\"dataframe\">\n",
       "  <thead>\n",
       "    <tr style=\"text-align: right;\">\n",
       "      <th></th>\n",
       "      <th>Country</th>\n",
       "      <th>Date</th>\n",
       "      <th>Capital</th>\n",
       "      <th>D</th>\n",
       "      <th>Category</th>\n",
       "    </tr>\n",
       "  </thead>\n",
       "  <tbody>\n",
       "    <tr>\n",
       "      <th>2</th>\n",
       "      <td>UK</td>\n",
       "      <td>2025-01-02</td>\n",
       "      <td>London</td>\n",
       "      <td>3</td>\n",
       "      <td>test</td>\n",
       "    </tr>\n",
       "  </tbody>\n",
       "</table>\n",
       "</div>"
      ],
      "text/plain": [
       "  Country       Date Capital  D Category\n",
       "2      UK 2025-01-02  London  3     test"
      ]
     },
     "execution_count": 427,
     "metadata": {},
     "output_type": "execute_result"
    }
   ],
   "source": [
    "df2.loc[2:2]"
   ]
  },
  {
   "cell_type": "code",
   "execution_count": 429,
   "id": "f292450c-bd34-4829-9483-278e3cc5f0f0",
   "metadata": {},
   "outputs": [
    {
     "data": {
      "text/html": [
       "<div>\n",
       "<style scoped>\n",
       "    .dataframe tbody tr th:only-of-type {\n",
       "        vertical-align: middle;\n",
       "    }\n",
       "\n",
       "    .dataframe tbody tr th {\n",
       "        vertical-align: top;\n",
       "    }\n",
       "\n",
       "    .dataframe thead th {\n",
       "        text-align: right;\n",
       "    }\n",
       "</style>\n",
       "<table border=\"1\" class=\"dataframe\">\n",
       "  <thead>\n",
       "    <tr style=\"text-align: right;\">\n",
       "      <th></th>\n",
       "      <th>Country</th>\n",
       "      <th>Date</th>\n",
       "      <th>Capital</th>\n",
       "      <th>D</th>\n",
       "      <th>Category</th>\n",
       "    </tr>\n",
       "  </thead>\n",
       "  <tbody>\n",
       "    <tr>\n",
       "      <th>0</th>\n",
       "      <td>Iran</td>\n",
       "      <td>2025-01-02</td>\n",
       "      <td>Tehran</td>\n",
       "      <td>3</td>\n",
       "      <td>test</td>\n",
       "    </tr>\n",
       "    <tr>\n",
       "      <th>1</th>\n",
       "      <td>USA</td>\n",
       "      <td>2025-01-02</td>\n",
       "      <td>NY</td>\n",
       "      <td>3</td>\n",
       "      <td>train</td>\n",
       "    </tr>\n",
       "    <tr>\n",
       "      <th>2</th>\n",
       "      <td>UK</td>\n",
       "      <td>2025-01-02</td>\n",
       "      <td>London</td>\n",
       "      <td>3</td>\n",
       "      <td>test</td>\n",
       "    </tr>\n",
       "  </tbody>\n",
       "</table>\n",
       "</div>"
      ],
      "text/plain": [
       "  Country       Date Capital  D Category\n",
       "0    Iran 2025-01-02  Tehran  3     test\n",
       "1     USA 2025-01-02      NY  3    train\n",
       "2      UK 2025-01-02  London  3     test"
      ]
     },
     "execution_count": 429,
     "metadata": {},
     "output_type": "execute_result"
    }
   ],
   "source": [
    "df2.loc[0:2]"
   ]
  },
  {
   "cell_type": "code",
   "execution_count": 431,
   "id": "e1236bb7-4742-4bef-a43b-a5c1354d0aba",
   "metadata": {},
   "outputs": [
    {
     "data": {
      "text/plain": [
       "0       Iran\n",
       "1        USA\n",
       "2         UK\n",
       "3    Germany\n",
       "4     Turkey\n",
       "Name: Country, dtype: object"
      ]
     },
     "execution_count": 431,
     "metadata": {},
     "output_type": "execute_result"
    }
   ],
   "source": [
    "df2.loc[:,'Country']"
   ]
  },
  {
   "cell_type": "code",
   "execution_count": 433,
   "id": "69a08141-3a66-48b4-a86e-f496c3da22ff",
   "metadata": {},
   "outputs": [
    {
     "data": {
      "text/html": [
       "<div>\n",
       "<style scoped>\n",
       "    .dataframe tbody tr th:only-of-type {\n",
       "        vertical-align: middle;\n",
       "    }\n",
       "\n",
       "    .dataframe tbody tr th {\n",
       "        vertical-align: top;\n",
       "    }\n",
       "\n",
       "    .dataframe thead th {\n",
       "        text-align: right;\n",
       "    }\n",
       "</style>\n",
       "<table border=\"1\" class=\"dataframe\">\n",
       "  <thead>\n",
       "    <tr style=\"text-align: right;\">\n",
       "      <th></th>\n",
       "      <th>Country</th>\n",
       "      <th>Category</th>\n",
       "    </tr>\n",
       "  </thead>\n",
       "  <tbody>\n",
       "    <tr>\n",
       "      <th>0</th>\n",
       "      <td>Iran</td>\n",
       "      <td>test</td>\n",
       "    </tr>\n",
       "    <tr>\n",
       "      <th>1</th>\n",
       "      <td>USA</td>\n",
       "      <td>train</td>\n",
       "    </tr>\n",
       "    <tr>\n",
       "      <th>2</th>\n",
       "      <td>UK</td>\n",
       "      <td>test</td>\n",
       "    </tr>\n",
       "    <tr>\n",
       "      <th>3</th>\n",
       "      <td>Germany</td>\n",
       "      <td>train</td>\n",
       "    </tr>\n",
       "    <tr>\n",
       "      <th>4</th>\n",
       "      <td>Turkey</td>\n",
       "      <td>Train</td>\n",
       "    </tr>\n",
       "  </tbody>\n",
       "</table>\n",
       "</div>"
      ],
      "text/plain": [
       "   Country Category\n",
       "0     Iran     test\n",
       "1      USA    train\n",
       "2       UK     test\n",
       "3  Germany    train\n",
       "4   Turkey    Train"
      ]
     },
     "execution_count": 433,
     "metadata": {},
     "output_type": "execute_result"
    }
   ],
   "source": [
    "df2.loc[:, [\"Country\",\"Category\"]]"
   ]
  },
  {
   "cell_type": "markdown",
   "id": "6374799c-e6d7-4c50-8a7f-21b73f1b9ad1",
   "metadata": {},
   "source": [
    "<div>\n",
    "    <h2>Selection by position</h2>\n",
    "</div>"
   ]
  },
  {
   "cell_type": "code",
   "execution_count": 436,
   "id": "660d7c22-a6d1-42c6-96ad-965957d49594",
   "metadata": {},
   "outputs": [
    {
     "data": {
      "text/plain": [
       "X    0.549633\n",
       "Y   -0.598228\n",
       "Z   -0.904476\n",
       "Name: 2025-01-04 00:00:00, dtype: float64"
      ]
     },
     "execution_count": 436,
     "metadata": {},
     "output_type": "execute_result"
    }
   ],
   "source": [
    "df.iloc[3]"
   ]
  },
  {
   "cell_type": "code",
   "execution_count": 438,
   "id": "9d263330-0251-4b0d-8d69-e9300166790e",
   "metadata": {},
   "outputs": [
    {
     "data": {
      "text/plain": [
       "Country                    Iran\n",
       "Date        2025-01-02 00:00:00\n",
       "Capital                  Tehran\n",
       "D                             3\n",
       "Category                   test\n",
       "Name: 0, dtype: object"
      ]
     },
     "execution_count": 438,
     "metadata": {},
     "output_type": "execute_result"
    }
   ],
   "source": [
    "df2.iloc[0]"
   ]
  },
  {
   "cell_type": "code",
   "execution_count": 440,
   "id": "0050f4d6-98d2-47fc-87c9-6db258bd03bb",
   "metadata": {},
   "outputs": [
    {
     "data": {
      "text/html": [
       "<div>\n",
       "<style scoped>\n",
       "    .dataframe tbody tr th:only-of-type {\n",
       "        vertical-align: middle;\n",
       "    }\n",
       "\n",
       "    .dataframe tbody tr th {\n",
       "        vertical-align: top;\n",
       "    }\n",
       "\n",
       "    .dataframe thead th {\n",
       "        text-align: right;\n",
       "    }\n",
       "</style>\n",
       "<table border=\"1\" class=\"dataframe\">\n",
       "  <thead>\n",
       "    <tr style=\"text-align: right;\">\n",
       "      <th></th>\n",
       "      <th>Country</th>\n",
       "      <th>Date</th>\n",
       "      <th>Capital</th>\n",
       "      <th>D</th>\n",
       "      <th>Category</th>\n",
       "    </tr>\n",
       "  </thead>\n",
       "  <tbody>\n",
       "    <tr>\n",
       "      <th>2</th>\n",
       "      <td>UK</td>\n",
       "      <td>2025-01-02</td>\n",
       "      <td>London</td>\n",
       "      <td>3</td>\n",
       "      <td>test</td>\n",
       "    </tr>\n",
       "    <tr>\n",
       "      <th>3</th>\n",
       "      <td>Germany</td>\n",
       "      <td>2025-01-02</td>\n",
       "      <td>Berlin</td>\n",
       "      <td>3</td>\n",
       "      <td>train</td>\n",
       "    </tr>\n",
       "    <tr>\n",
       "      <th>4</th>\n",
       "      <td>Turkey</td>\n",
       "      <td>2025-01-02</td>\n",
       "      <td>Istanbul</td>\n",
       "      <td>3</td>\n",
       "      <td>Train</td>\n",
       "    </tr>\n",
       "  </tbody>\n",
       "</table>\n",
       "</div>"
      ],
      "text/plain": [
       "   Country       Date   Capital  D Category\n",
       "2       UK 2025-01-02    London  3     test\n",
       "3  Germany 2025-01-02    Berlin  3    train\n",
       "4   Turkey 2025-01-02  Istanbul  3    Train"
      ]
     },
     "execution_count": 440,
     "metadata": {},
     "output_type": "execute_result"
    }
   ],
   "source": [
    "df2.iloc[2:]"
   ]
  },
  {
   "cell_type": "code",
   "execution_count": 442,
   "id": "a0ac65a9-459d-4b37-a65e-59ffb8e26c1a",
   "metadata": {},
   "outputs": [
    {
     "data": {
      "text/plain": [
       "0      Tehran\n",
       "1          NY\n",
       "2      London\n",
       "3      Berlin\n",
       "4    Istanbul\n",
       "Name: Capital, dtype: object"
      ]
     },
     "execution_count": 442,
     "metadata": {},
     "output_type": "execute_result"
    }
   ],
   "source": [
    "df2.iloc[:,2]"
   ]
  },
  {
   "cell_type": "code",
   "execution_count": 444,
   "id": "a192c8e5-50fc-460e-acb6-3521386e4042",
   "metadata": {},
   "outputs": [
    {
     "data": {
      "text/html": [
       "<div>\n",
       "<style scoped>\n",
       "    .dataframe tbody tr th:only-of-type {\n",
       "        vertical-align: middle;\n",
       "    }\n",
       "\n",
       "    .dataframe tbody tr th {\n",
       "        vertical-align: top;\n",
       "    }\n",
       "\n",
       "    .dataframe thead th {\n",
       "        text-align: right;\n",
       "    }\n",
       "</style>\n",
       "<table border=\"1\" class=\"dataframe\">\n",
       "  <thead>\n",
       "    <tr style=\"text-align: right;\">\n",
       "      <th></th>\n",
       "      <th>Capital</th>\n",
       "      <th>D</th>\n",
       "    </tr>\n",
       "  </thead>\n",
       "  <tbody>\n",
       "    <tr>\n",
       "      <th>0</th>\n",
       "      <td>Tehran</td>\n",
       "      <td>3</td>\n",
       "    </tr>\n",
       "    <tr>\n",
       "      <th>1</th>\n",
       "      <td>NY</td>\n",
       "      <td>3</td>\n",
       "    </tr>\n",
       "    <tr>\n",
       "      <th>2</th>\n",
       "      <td>London</td>\n",
       "      <td>3</td>\n",
       "    </tr>\n",
       "    <tr>\n",
       "      <th>3</th>\n",
       "      <td>Berlin</td>\n",
       "      <td>3</td>\n",
       "    </tr>\n",
       "    <tr>\n",
       "      <th>4</th>\n",
       "      <td>Istanbul</td>\n",
       "      <td>3</td>\n",
       "    </tr>\n",
       "  </tbody>\n",
       "</table>\n",
       "</div>"
      ],
      "text/plain": [
       "    Capital  D\n",
       "0    Tehran  3\n",
       "1        NY  3\n",
       "2    London  3\n",
       "3    Berlin  3\n",
       "4  Istanbul  3"
      ]
     },
     "execution_count": 444,
     "metadata": {},
     "output_type": "execute_result"
    }
   ],
   "source": [
    "df2.iloc[:,2:4]"
   ]
  },
  {
   "cell_type": "markdown",
   "id": "ada0fc65-298f-4393-8c60-615a581b9602",
   "metadata": {},
   "source": [
    "<div>\n",
    "    <h2>Boolean indexing</h2>\n",
    "</div>"
   ]
  },
  {
   "cell_type": "code",
   "execution_count": 447,
   "id": "7e3ba845-4444-49b1-9b82-dcec16e8cd31",
   "metadata": {},
   "outputs": [
    {
     "data": {
      "text/html": [
       "<div>\n",
       "<style scoped>\n",
       "    .dataframe tbody tr th:only-of-type {\n",
       "        vertical-align: middle;\n",
       "    }\n",
       "\n",
       "    .dataframe tbody tr th {\n",
       "        vertical-align: top;\n",
       "    }\n",
       "\n",
       "    .dataframe thead th {\n",
       "        text-align: right;\n",
       "    }\n",
       "</style>\n",
       "<table border=\"1\" class=\"dataframe\">\n",
       "  <thead>\n",
       "    <tr style=\"text-align: right;\">\n",
       "      <th></th>\n",
       "      <th>X</th>\n",
       "      <th>Y</th>\n",
       "      <th>Z</th>\n",
       "    </tr>\n",
       "  </thead>\n",
       "  <tbody>\n",
       "    <tr>\n",
       "      <th>2025-01-01</th>\n",
       "      <td>True</td>\n",
       "      <td>True</td>\n",
       "      <td>True</td>\n",
       "    </tr>\n",
       "    <tr>\n",
       "      <th>2025-01-02</th>\n",
       "      <td>False</td>\n",
       "      <td>False</td>\n",
       "      <td>True</td>\n",
       "    </tr>\n",
       "    <tr>\n",
       "      <th>2025-01-03</th>\n",
       "      <td>True</td>\n",
       "      <td>False</td>\n",
       "      <td>True</td>\n",
       "    </tr>\n",
       "    <tr>\n",
       "      <th>2025-01-04</th>\n",
       "      <td>True</td>\n",
       "      <td>False</td>\n",
       "      <td>False</td>\n",
       "    </tr>\n",
       "    <tr>\n",
       "      <th>2025-01-05</th>\n",
       "      <td>True</td>\n",
       "      <td>False</td>\n",
       "      <td>True</td>\n",
       "    </tr>\n",
       "    <tr>\n",
       "      <th>2025-01-06</th>\n",
       "      <td>True</td>\n",
       "      <td>False</td>\n",
       "      <td>False</td>\n",
       "    </tr>\n",
       "    <tr>\n",
       "      <th>2025-01-07</th>\n",
       "      <td>True</td>\n",
       "      <td>True</td>\n",
       "      <td>False</td>\n",
       "    </tr>\n",
       "    <tr>\n",
       "      <th>2025-01-08</th>\n",
       "      <td>True</td>\n",
       "      <td>True</td>\n",
       "      <td>True</td>\n",
       "    </tr>\n",
       "    <tr>\n",
       "      <th>2025-01-09</th>\n",
       "      <td>False</td>\n",
       "      <td>False</td>\n",
       "      <td>False</td>\n",
       "    </tr>\n",
       "    <tr>\n",
       "      <th>2025-01-10</th>\n",
       "      <td>False</td>\n",
       "      <td>False</td>\n",
       "      <td>True</td>\n",
       "    </tr>\n",
       "  </tbody>\n",
       "</table>\n",
       "</div>"
      ],
      "text/plain": [
       "                X      Y      Z\n",
       "2025-01-01   True   True   True\n",
       "2025-01-02  False  False   True\n",
       "2025-01-03   True  False   True\n",
       "2025-01-04   True  False  False\n",
       "2025-01-05   True  False   True\n",
       "2025-01-06   True  False  False\n",
       "2025-01-07   True   True  False\n",
       "2025-01-08   True   True   True\n",
       "2025-01-09  False  False  False\n",
       "2025-01-10  False  False   True"
      ]
     },
     "execution_count": 447,
     "metadata": {},
     "output_type": "execute_result"
    }
   ],
   "source": [
    "df>0"
   ]
  },
  {
   "cell_type": "code",
   "execution_count": 449,
   "id": "4fe30589-4853-4970-a386-0cebcdb5815d",
   "metadata": {},
   "outputs": [
    {
     "data": {
      "text/html": [
       "<div>\n",
       "<style scoped>\n",
       "    .dataframe tbody tr th:only-of-type {\n",
       "        vertical-align: middle;\n",
       "    }\n",
       "\n",
       "    .dataframe tbody tr th {\n",
       "        vertical-align: top;\n",
       "    }\n",
       "\n",
       "    .dataframe thead th {\n",
       "        text-align: right;\n",
       "    }\n",
       "</style>\n",
       "<table border=\"1\" class=\"dataframe\">\n",
       "  <thead>\n",
       "    <tr style=\"text-align: right;\">\n",
       "      <th></th>\n",
       "      <th>X</th>\n",
       "      <th>Y</th>\n",
       "      <th>Z</th>\n",
       "    </tr>\n",
       "  </thead>\n",
       "  <tbody>\n",
       "    <tr>\n",
       "      <th>2025-01-01</th>\n",
       "      <td>1.255237</td>\n",
       "      <td>0.745816</td>\n",
       "      <td>0.044265</td>\n",
       "    </tr>\n",
       "    <tr>\n",
       "      <th>2025-01-02</th>\n",
       "      <td>NaN</td>\n",
       "      <td>NaN</td>\n",
       "      <td>0.976653</td>\n",
       "    </tr>\n",
       "    <tr>\n",
       "      <th>2025-01-03</th>\n",
       "      <td>1.389224</td>\n",
       "      <td>NaN</td>\n",
       "      <td>0.257473</td>\n",
       "    </tr>\n",
       "    <tr>\n",
       "      <th>2025-01-04</th>\n",
       "      <td>0.549633</td>\n",
       "      <td>NaN</td>\n",
       "      <td>NaN</td>\n",
       "    </tr>\n",
       "    <tr>\n",
       "      <th>2025-01-05</th>\n",
       "      <td>0.232104</td>\n",
       "      <td>NaN</td>\n",
       "      <td>0.711248</td>\n",
       "    </tr>\n",
       "    <tr>\n",
       "      <th>2025-01-06</th>\n",
       "      <td>0.926906</td>\n",
       "      <td>NaN</td>\n",
       "      <td>NaN</td>\n",
       "    </tr>\n",
       "    <tr>\n",
       "      <th>2025-01-07</th>\n",
       "      <td>2.282090</td>\n",
       "      <td>0.178209</td>\n",
       "      <td>NaN</td>\n",
       "    </tr>\n",
       "    <tr>\n",
       "      <th>2025-01-08</th>\n",
       "      <td>1.488978</td>\n",
       "      <td>0.335247</td>\n",
       "      <td>1.229124</td>\n",
       "    </tr>\n",
       "    <tr>\n",
       "      <th>2025-01-09</th>\n",
       "      <td>NaN</td>\n",
       "      <td>NaN</td>\n",
       "      <td>NaN</td>\n",
       "    </tr>\n",
       "    <tr>\n",
       "      <th>2025-01-10</th>\n",
       "      <td>NaN</td>\n",
       "      <td>NaN</td>\n",
       "      <td>0.077077</td>\n",
       "    </tr>\n",
       "  </tbody>\n",
       "</table>\n",
       "</div>"
      ],
      "text/plain": [
       "                   X         Y         Z\n",
       "2025-01-01  1.255237  0.745816  0.044265\n",
       "2025-01-02       NaN       NaN  0.976653\n",
       "2025-01-03  1.389224       NaN  0.257473\n",
       "2025-01-04  0.549633       NaN       NaN\n",
       "2025-01-05  0.232104       NaN  0.711248\n",
       "2025-01-06  0.926906       NaN       NaN\n",
       "2025-01-07  2.282090  0.178209       NaN\n",
       "2025-01-08  1.488978  0.335247  1.229124\n",
       "2025-01-09       NaN       NaN       NaN\n",
       "2025-01-10       NaN       NaN  0.077077"
      ]
     },
     "execution_count": 449,
     "metadata": {},
     "output_type": "execute_result"
    }
   ],
   "source": [
    "df[df>0]"
   ]
  },
  {
   "cell_type": "code",
   "execution_count": 451,
   "id": "5815689d-ae34-410f-8da7-7f2eb1e73691",
   "metadata": {},
   "outputs": [
    {
     "data": {
      "text/html": [
       "<div>\n",
       "<style scoped>\n",
       "    .dataframe tbody tr th:only-of-type {\n",
       "        vertical-align: middle;\n",
       "    }\n",
       "\n",
       "    .dataframe tbody tr th {\n",
       "        vertical-align: top;\n",
       "    }\n",
       "\n",
       "    .dataframe thead th {\n",
       "        text-align: right;\n",
       "    }\n",
       "</style>\n",
       "<table border=\"1\" class=\"dataframe\">\n",
       "  <thead>\n",
       "    <tr style=\"text-align: right;\">\n",
       "      <th></th>\n",
       "      <th>X</th>\n",
       "      <th>Y</th>\n",
       "      <th>Z</th>\n",
       "    </tr>\n",
       "  </thead>\n",
       "  <tbody>\n",
       "    <tr>\n",
       "      <th>2025-01-01</th>\n",
       "      <td>1.255237</td>\n",
       "      <td>0.745816</td>\n",
       "      <td>0.044265</td>\n",
       "    </tr>\n",
       "    <tr>\n",
       "      <th>2025-01-03</th>\n",
       "      <td>1.389224</td>\n",
       "      <td>-1.918962</td>\n",
       "      <td>0.257473</td>\n",
       "    </tr>\n",
       "    <tr>\n",
       "      <th>2025-01-04</th>\n",
       "      <td>0.549633</td>\n",
       "      <td>-0.598228</td>\n",
       "      <td>-0.904476</td>\n",
       "    </tr>\n",
       "    <tr>\n",
       "      <th>2025-01-05</th>\n",
       "      <td>0.232104</td>\n",
       "      <td>-0.818591</td>\n",
       "      <td>0.711248</td>\n",
       "    </tr>\n",
       "    <tr>\n",
       "      <th>2025-01-06</th>\n",
       "      <td>0.926906</td>\n",
       "      <td>-1.657328</td>\n",
       "      <td>-0.976052</td>\n",
       "    </tr>\n",
       "    <tr>\n",
       "      <th>2025-01-07</th>\n",
       "      <td>2.282090</td>\n",
       "      <td>0.178209</td>\n",
       "      <td>-1.503018</td>\n",
       "    </tr>\n",
       "    <tr>\n",
       "      <th>2025-01-08</th>\n",
       "      <td>1.488978</td>\n",
       "      <td>0.335247</td>\n",
       "      <td>1.229124</td>\n",
       "    </tr>\n",
       "  </tbody>\n",
       "</table>\n",
       "</div>"
      ],
      "text/plain": [
       "                   X         Y         Z\n",
       "2025-01-01  1.255237  0.745816  0.044265\n",
       "2025-01-03  1.389224 -1.918962  0.257473\n",
       "2025-01-04  0.549633 -0.598228 -0.904476\n",
       "2025-01-05  0.232104 -0.818591  0.711248\n",
       "2025-01-06  0.926906 -1.657328 -0.976052\n",
       "2025-01-07  2.282090  0.178209 -1.503018\n",
       "2025-01-08  1.488978  0.335247  1.229124"
      ]
     },
     "execution_count": 451,
     "metadata": {},
     "output_type": "execute_result"
    }
   ],
   "source": [
    "df[df.X>0]"
   ]
  },
  {
   "cell_type": "code",
   "execution_count": 453,
   "id": "2a85539a-4f6e-44ac-b739-57c1065533b1",
   "metadata": {},
   "outputs": [
    {
     "data": {
      "text/html": [
       "<div>\n",
       "<style scoped>\n",
       "    .dataframe tbody tr th:only-of-type {\n",
       "        vertical-align: middle;\n",
       "    }\n",
       "\n",
       "    .dataframe tbody tr th {\n",
       "        vertical-align: top;\n",
       "    }\n",
       "\n",
       "    .dataframe thead th {\n",
       "        text-align: right;\n",
       "    }\n",
       "</style>\n",
       "<table border=\"1\" class=\"dataframe\">\n",
       "  <thead>\n",
       "    <tr style=\"text-align: right;\">\n",
       "      <th></th>\n",
       "      <th>X</th>\n",
       "      <th>Y</th>\n",
       "      <th>Z</th>\n",
       "      <th>E</th>\n",
       "    </tr>\n",
       "  </thead>\n",
       "  <tbody>\n",
       "    <tr>\n",
       "      <th>2025-01-01</th>\n",
       "      <td>1.255237</td>\n",
       "      <td>0.745816</td>\n",
       "      <td>0.044265</td>\n",
       "      <td>1.0</td>\n",
       "    </tr>\n",
       "    <tr>\n",
       "      <th>2025-01-02</th>\n",
       "      <td>-0.638625</td>\n",
       "      <td>-2.288898</td>\n",
       "      <td>0.976653</td>\n",
       "      <td>1.0</td>\n",
       "    </tr>\n",
       "    <tr>\n",
       "      <th>2025-01-03</th>\n",
       "      <td>1.389224</td>\n",
       "      <td>-1.918962</td>\n",
       "      <td>0.257473</td>\n",
       "      <td>NaN</td>\n",
       "    </tr>\n",
       "    <tr>\n",
       "      <th>2025-01-04</th>\n",
       "      <td>0.549633</td>\n",
       "      <td>-0.598228</td>\n",
       "      <td>-0.904476</td>\n",
       "      <td>NaN</td>\n",
       "    </tr>\n",
       "  </tbody>\n",
       "</table>\n",
       "</div>"
      ],
      "text/plain": [
       "                   X         Y         Z    E\n",
       "2025-01-01  1.255237  0.745816  0.044265  1.0\n",
       "2025-01-02 -0.638625 -2.288898  0.976653  1.0\n",
       "2025-01-03  1.389224 -1.918962  0.257473  NaN\n",
       "2025-01-04  0.549633 -0.598228 -0.904476  NaN"
      ]
     },
     "execution_count": 453,
     "metadata": {},
     "output_type": "execute_result"
    }
   ],
   "source": [
    "df1 = df.reindex(index=dates[0:4], columns=list(df.columns) + [\"E\"])\n",
    "df1.loc[dates[0] : dates[1], \"E\"] = 1\n",
    "df1"
   ]
  },
  {
   "cell_type": "markdown",
   "id": "da9b310a-6061-44d5-b228-e0d61d434ece",
   "metadata": {},
   "source": [
    "<div> <h1> Missing Data in numpy </h1> </div>"
   ]
  },
  {
   "cell_type": "code",
   "execution_count": 456,
   "id": "19e00ee6-75ab-4fc6-afb2-6a6e30d058da",
   "metadata": {},
   "outputs": [
    {
     "data": {
      "text/html": [
       "<div>\n",
       "<style scoped>\n",
       "    .dataframe tbody tr th:only-of-type {\n",
       "        vertical-align: middle;\n",
       "    }\n",
       "\n",
       "    .dataframe tbody tr th {\n",
       "        vertical-align: top;\n",
       "    }\n",
       "\n",
       "    .dataframe thead th {\n",
       "        text-align: right;\n",
       "    }\n",
       "</style>\n",
       "<table border=\"1\" class=\"dataframe\">\n",
       "  <thead>\n",
       "    <tr style=\"text-align: right;\">\n",
       "      <th></th>\n",
       "      <th>X</th>\n",
       "      <th>Y</th>\n",
       "      <th>Z</th>\n",
       "      <th>W</th>\n",
       "    </tr>\n",
       "  </thead>\n",
       "  <tbody>\n",
       "    <tr>\n",
       "      <th>2025-01-01</th>\n",
       "      <td>1.255237</td>\n",
       "      <td>0.745816</td>\n",
       "      <td>0.044265</td>\n",
       "      <td>1.0</td>\n",
       "    </tr>\n",
       "    <tr>\n",
       "      <th>2025-01-02</th>\n",
       "      <td>-0.638625</td>\n",
       "      <td>-2.288898</td>\n",
       "      <td>0.976653</td>\n",
       "      <td>1.0</td>\n",
       "    </tr>\n",
       "    <tr>\n",
       "      <th>2025-01-03</th>\n",
       "      <td>1.389224</td>\n",
       "      <td>-1.918962</td>\n",
       "      <td>0.257473</td>\n",
       "      <td>NaN</td>\n",
       "    </tr>\n",
       "    <tr>\n",
       "      <th>2025-01-04</th>\n",
       "      <td>0.549633</td>\n",
       "      <td>-0.598228</td>\n",
       "      <td>-0.904476</td>\n",
       "      <td>NaN</td>\n",
       "    </tr>\n",
       "    <tr>\n",
       "      <th>2025-01-05</th>\n",
       "      <td>0.232104</td>\n",
       "      <td>-0.818591</td>\n",
       "      <td>0.711248</td>\n",
       "      <td>NaN</td>\n",
       "    </tr>\n",
       "  </tbody>\n",
       "</table>\n",
       "</div>"
      ],
      "text/plain": [
       "                   X         Y         Z    W\n",
       "2025-01-01  1.255237  0.745816  0.044265  1.0\n",
       "2025-01-02 -0.638625 -2.288898  0.976653  1.0\n",
       "2025-01-03  1.389224 -1.918962  0.257473  NaN\n",
       "2025-01-04  0.549633 -0.598228 -0.904476  NaN\n",
       "2025-01-05  0.232104 -0.818591  0.711248  NaN"
      ]
     },
     "execution_count": 456,
     "metadata": {},
     "output_type": "execute_result"
    }
   ],
   "source": [
    "#adding NaN (Null data) to the table:\n",
    "df3 = df.reindex(index = dates[0:5], columns = list(df.columns)+ [\"W\"])\n",
    "df3.iloc[0:2,3]=1\n",
    "df3"
   ]
  },
  {
   "cell_type": "code",
   "execution_count": 458,
   "id": "b93dd0b3-4fe0-4871-b4b5-5953e3edd473",
   "metadata": {},
   "outputs": [
    {
     "data": {
      "text/html": [
       "<div>\n",
       "<style scoped>\n",
       "    .dataframe tbody tr th:only-of-type {\n",
       "        vertical-align: middle;\n",
       "    }\n",
       "\n",
       "    .dataframe tbody tr th {\n",
       "        vertical-align: top;\n",
       "    }\n",
       "\n",
       "    .dataframe thead th {\n",
       "        text-align: right;\n",
       "    }\n",
       "</style>\n",
       "<table border=\"1\" class=\"dataframe\">\n",
       "  <thead>\n",
       "    <tr style=\"text-align: right;\">\n",
       "      <th></th>\n",
       "      <th>X</th>\n",
       "      <th>Y</th>\n",
       "      <th>Z</th>\n",
       "      <th>W</th>\n",
       "    </tr>\n",
       "  </thead>\n",
       "  <tbody>\n",
       "    <tr>\n",
       "      <th>2025-01-01</th>\n",
       "      <td>1.255237</td>\n",
       "      <td>0.745816</td>\n",
       "      <td>0.044265</td>\n",
       "      <td>1.0</td>\n",
       "    </tr>\n",
       "    <tr>\n",
       "      <th>2025-01-02</th>\n",
       "      <td>-0.638625</td>\n",
       "      <td>-2.288898</td>\n",
       "      <td>0.976653</td>\n",
       "      <td>1.0</td>\n",
       "    </tr>\n",
       "  </tbody>\n",
       "</table>\n",
       "</div>"
      ],
      "text/plain": [
       "                   X         Y         Z    W\n",
       "2025-01-01  1.255237  0.745816  0.044265  1.0\n",
       "2025-01-02 -0.638625 -2.288898  0.976653  1.0"
      ]
     },
     "execution_count": 458,
     "metadata": {},
     "output_type": "execute_result"
    }
   ],
   "source": [
    "df3.dropna()"
   ]
  },
  {
   "cell_type": "code",
   "execution_count": 460,
   "id": "b7527a33-727c-47b9-910a-3f22e660f1df",
   "metadata": {},
   "outputs": [
    {
     "data": {
      "text/html": [
       "<div>\n",
       "<style scoped>\n",
       "    .dataframe tbody tr th:only-of-type {\n",
       "        vertical-align: middle;\n",
       "    }\n",
       "\n",
       "    .dataframe tbody tr th {\n",
       "        vertical-align: top;\n",
       "    }\n",
       "\n",
       "    .dataframe thead th {\n",
       "        text-align: right;\n",
       "    }\n",
       "</style>\n",
       "<table border=\"1\" class=\"dataframe\">\n",
       "  <thead>\n",
       "    <tr style=\"text-align: right;\">\n",
       "      <th></th>\n",
       "      <th>X</th>\n",
       "      <th>Y</th>\n",
       "      <th>Z</th>\n",
       "      <th>W</th>\n",
       "    </tr>\n",
       "  </thead>\n",
       "  <tbody>\n",
       "    <tr>\n",
       "      <th>2025-01-01</th>\n",
       "      <td>1.255237</td>\n",
       "      <td>0.745816</td>\n",
       "      <td>0.044265</td>\n",
       "      <td>1.0</td>\n",
       "    </tr>\n",
       "    <tr>\n",
       "      <th>2025-01-02</th>\n",
       "      <td>-0.638625</td>\n",
       "      <td>-2.288898</td>\n",
       "      <td>0.976653</td>\n",
       "      <td>1.0</td>\n",
       "    </tr>\n",
       "    <tr>\n",
       "      <th>2025-01-03</th>\n",
       "      <td>1.389224</td>\n",
       "      <td>-1.918962</td>\n",
       "      <td>0.257473</td>\n",
       "      <td>2.0</td>\n",
       "    </tr>\n",
       "    <tr>\n",
       "      <th>2025-01-04</th>\n",
       "      <td>0.549633</td>\n",
       "      <td>-0.598228</td>\n",
       "      <td>-0.904476</td>\n",
       "      <td>2.0</td>\n",
       "    </tr>\n",
       "    <tr>\n",
       "      <th>2025-01-05</th>\n",
       "      <td>0.232104</td>\n",
       "      <td>-0.818591</td>\n",
       "      <td>0.711248</td>\n",
       "      <td>2.0</td>\n",
       "    </tr>\n",
       "  </tbody>\n",
       "</table>\n",
       "</div>"
      ],
      "text/plain": [
       "                   X         Y         Z    W\n",
       "2025-01-01  1.255237  0.745816  0.044265  1.0\n",
       "2025-01-02 -0.638625 -2.288898  0.976653  1.0\n",
       "2025-01-03  1.389224 -1.918962  0.257473  2.0\n",
       "2025-01-04  0.549633 -0.598228 -0.904476  2.0\n",
       "2025-01-05  0.232104 -0.818591  0.711248  2.0"
      ]
     },
     "execution_count": 460,
     "metadata": {},
     "output_type": "execute_result"
    }
   ],
   "source": [
    "df3.fillna(value= 2)"
   ]
  },
  {
   "cell_type": "markdown",
   "id": "02b53575-7418-4211-843a-3ba38d34b1a0",
   "metadata": {},
   "source": [
    "<div>\n",
    "    <h1>Merge in pandas</h1>\n",
    "</div>"
   ]
  },
  {
   "cell_type": "code",
   "execution_count": 463,
   "id": "494b7ea6-94d2-4fc1-888a-65ef1f717c64",
   "metadata": {},
   "outputs": [
    {
     "data": {
      "text/html": [
       "<div>\n",
       "<style scoped>\n",
       "    .dataframe tbody tr th:only-of-type {\n",
       "        vertical-align: middle;\n",
       "    }\n",
       "\n",
       "    .dataframe tbody tr th {\n",
       "        vertical-align: top;\n",
       "    }\n",
       "\n",
       "    .dataframe thead th {\n",
       "        text-align: right;\n",
       "    }\n",
       "</style>\n",
       "<table border=\"1\" class=\"dataframe\">\n",
       "  <thead>\n",
       "    <tr style=\"text-align: right;\">\n",
       "      <th></th>\n",
       "      <th>0</th>\n",
       "      <th>1</th>\n",
       "      <th>2</th>\n",
       "    </tr>\n",
       "  </thead>\n",
       "  <tbody>\n",
       "    <tr>\n",
       "      <th>0</th>\n",
       "      <td>0.566338</td>\n",
       "      <td>1.219110</td>\n",
       "      <td>0.696935</td>\n",
       "    </tr>\n",
       "    <tr>\n",
       "      <th>1</th>\n",
       "      <td>1.325992</td>\n",
       "      <td>-0.986288</td>\n",
       "      <td>1.222049</td>\n",
       "    </tr>\n",
       "  </tbody>\n",
       "</table>\n",
       "</div>"
      ],
      "text/plain": [
       "          0         1         2\n",
       "0  0.566338  1.219110  0.696935\n",
       "1  1.325992 -0.986288  1.222049"
      ]
     },
     "execution_count": 463,
     "metadata": {},
     "output_type": "execute_result"
    }
   ],
   "source": [
    "#Concat\n",
    "df4 = pd.DataFrame(np.random.randn(5, 3))\n",
    "df5 = pd.DataFrame(np.random.randn(2,3))\n",
    "df5"
   ]
  },
  {
   "cell_type": "code",
   "execution_count": 465,
   "id": "e0e74ead-e69b-483a-9589-db0adf7be764",
   "metadata": {},
   "outputs": [
    {
     "data": {
      "text/html": [
       "<div>\n",
       "<style scoped>\n",
       "    .dataframe tbody tr th:only-of-type {\n",
       "        vertical-align: middle;\n",
       "    }\n",
       "\n",
       "    .dataframe tbody tr th {\n",
       "        vertical-align: top;\n",
       "    }\n",
       "\n",
       "    .dataframe thead th {\n",
       "        text-align: right;\n",
       "    }\n",
       "</style>\n",
       "<table border=\"1\" class=\"dataframe\">\n",
       "  <thead>\n",
       "    <tr style=\"text-align: right;\">\n",
       "      <th></th>\n",
       "      <th>0</th>\n",
       "      <th>1</th>\n",
       "      <th>2</th>\n",
       "    </tr>\n",
       "  </thead>\n",
       "  <tbody>\n",
       "    <tr>\n",
       "      <th>0</th>\n",
       "      <td>0.821342</td>\n",
       "      <td>-1.752537</td>\n",
       "      <td>0.351778</td>\n",
       "    </tr>\n",
       "    <tr>\n",
       "      <th>1</th>\n",
       "      <td>-1.016091</td>\n",
       "      <td>0.421630</td>\n",
       "      <td>0.052094</td>\n",
       "    </tr>\n",
       "    <tr>\n",
       "      <th>2</th>\n",
       "      <td>0.712185</td>\n",
       "      <td>-0.957416</td>\n",
       "      <td>0.959354</td>\n",
       "    </tr>\n",
       "    <tr>\n",
       "      <th>3</th>\n",
       "      <td>0.074432</td>\n",
       "      <td>-0.037681</td>\n",
       "      <td>-1.153120</td>\n",
       "    </tr>\n",
       "    <tr>\n",
       "      <th>4</th>\n",
       "      <td>0.483733</td>\n",
       "      <td>0.649714</td>\n",
       "      <td>-0.392137</td>\n",
       "    </tr>\n",
       "    <tr>\n",
       "      <th>5</th>\n",
       "      <td>0.566338</td>\n",
       "      <td>1.219110</td>\n",
       "      <td>0.696935</td>\n",
       "    </tr>\n",
       "    <tr>\n",
       "      <th>6</th>\n",
       "      <td>1.325992</td>\n",
       "      <td>-0.986288</td>\n",
       "      <td>1.222049</td>\n",
       "    </tr>\n",
       "  </tbody>\n",
       "</table>\n",
       "</div>"
      ],
      "text/plain": [
       "          0         1         2\n",
       "0  0.821342 -1.752537  0.351778\n",
       "1 -1.016091  0.421630  0.052094\n",
       "2  0.712185 -0.957416  0.959354\n",
       "3  0.074432 -0.037681 -1.153120\n",
       "4  0.483733  0.649714 -0.392137\n",
       "5  0.566338  1.219110  0.696935\n",
       "6  1.325992 -0.986288  1.222049"
      ]
     },
     "execution_count": 465,
     "metadata": {},
     "output_type": "execute_result"
    }
   ],
   "source": [
    "pd.concat((df4,df5),  ignore_index = True)"
   ]
  },
  {
   "cell_type": "code",
   "execution_count": 467,
   "id": "4774128d-0920-4b85-93d4-212a28587399",
   "metadata": {},
   "outputs": [
    {
     "data": {
      "text/html": [
       "<div>\n",
       "<style scoped>\n",
       "    .dataframe tbody tr th:only-of-type {\n",
       "        vertical-align: middle;\n",
       "    }\n",
       "\n",
       "    .dataframe tbody tr th {\n",
       "        vertical-align: top;\n",
       "    }\n",
       "\n",
       "    .dataframe thead th {\n",
       "        text-align: right;\n",
       "    }\n",
       "</style>\n",
       "<table border=\"1\" class=\"dataframe\">\n",
       "  <thead>\n",
       "    <tr style=\"text-align: right;\">\n",
       "      <th></th>\n",
       "      <th>country</th>\n",
       "      <th>group_x</th>\n",
       "      <th>group_y</th>\n",
       "    </tr>\n",
       "  </thead>\n",
       "  <tbody>\n",
       "    <tr>\n",
       "      <th>0</th>\n",
       "      <td>Iran</td>\n",
       "      <td>A</td>\n",
       "      <td>C</td>\n",
       "    </tr>\n",
       "    <tr>\n",
       "      <th>1</th>\n",
       "      <td>Turkey</td>\n",
       "      <td>B</td>\n",
       "      <td>D</td>\n",
       "    </tr>\n",
       "  </tbody>\n",
       "</table>\n",
       "</div>"
      ],
      "text/plain": [
       "  country group_x group_y\n",
       "0    Iran       A       C\n",
       "1  Turkey       B       D"
      ]
     },
     "execution_count": 467,
     "metadata": {},
     "output_type": "execute_result"
    }
   ],
   "source": [
    "#join --- merge()\n",
    "group1 = pd.DataFrame({\n",
    "    \"country\": [\"Iran\", \"Turkey\"],\n",
    "    \"group\":[\"A\",\"B\"]            \n",
    "})\n",
    "\n",
    "group2 = pd.DataFrame({\n",
    "    \"country\": [\"Iran\", \"Turkey\"],\n",
    "    \"group\":[\"C\",\"D\"]            \n",
    "})\n",
    "pd.merge(group1, group2, on=(\"country\"))"
   ]
  },
  {
   "cell_type": "markdown",
   "id": "f34651b6-d3d3-4dd2-b4d6-ab8c667df9db",
   "metadata": {},
   "source": [
    "<div>\n",
    "    <h1>Grouping</h1>\n",
    "</div>"
   ]
  },
  {
   "cell_type": "code",
   "execution_count": 476,
   "id": "8e3f45ac-8f25-4034-87b7-b117002f1193",
   "metadata": {},
   "outputs": [
    {
     "data": {
      "text/html": [
       "<div>\n",
       "<style scoped>\n",
       "    .dataframe tbody tr th:only-of-type {\n",
       "        vertical-align: middle;\n",
       "    }\n",
       "\n",
       "    .dataframe tbody tr th {\n",
       "        vertical-align: top;\n",
       "    }\n",
       "\n",
       "    .dataframe thead th {\n",
       "        text-align: right;\n",
       "    }\n",
       "</style>\n",
       "<table border=\"1\" class=\"dataframe\">\n",
       "  <thead>\n",
       "    <tr style=\"text-align: right;\">\n",
       "      <th></th>\n",
       "      <th>group</th>\n",
       "      <th>gold</th>\n",
       "      <th>silver</th>\n",
       "      <th>bronze</th>\n",
       "    </tr>\n",
       "  </thead>\n",
       "  <tbody>\n",
       "    <tr>\n",
       "      <th>2025-01-01</th>\n",
       "      <td>A</td>\n",
       "      <td>1</td>\n",
       "      <td>2</td>\n",
       "      <td>6</td>\n",
       "    </tr>\n",
       "    <tr>\n",
       "      <th>2025-01-02</th>\n",
       "      <td>B</td>\n",
       "      <td>2</td>\n",
       "      <td>3</td>\n",
       "      <td>3</td>\n",
       "    </tr>\n",
       "    <tr>\n",
       "      <th>2025-01-03</th>\n",
       "      <td>c</td>\n",
       "      <td>4</td>\n",
       "      <td>1</td>\n",
       "      <td>1</td>\n",
       "    </tr>\n",
       "    <tr>\n",
       "      <th>2025-01-04</th>\n",
       "      <td>B</td>\n",
       "      <td>2</td>\n",
       "      <td>4</td>\n",
       "      <td>1</td>\n",
       "    </tr>\n",
       "    <tr>\n",
       "      <th>2025-01-05</th>\n",
       "      <td>A</td>\n",
       "      <td>3</td>\n",
       "      <td>6</td>\n",
       "      <td>3</td>\n",
       "    </tr>\n",
       "    <tr>\n",
       "      <th>2025-01-06</th>\n",
       "      <td>A</td>\n",
       "      <td>4</td>\n",
       "      <td>7</td>\n",
       "      <td>5</td>\n",
       "    </tr>\n",
       "    <tr>\n",
       "      <th>2025-01-07</th>\n",
       "      <td>C</td>\n",
       "      <td>5</td>\n",
       "      <td>8</td>\n",
       "      <td>9</td>\n",
       "    </tr>\n",
       "    <tr>\n",
       "      <th>2025-01-08</th>\n",
       "      <td>C</td>\n",
       "      <td>6</td>\n",
       "      <td>9</td>\n",
       "      <td>6</td>\n",
       "    </tr>\n",
       "  </tbody>\n",
       "</table>\n",
       "</div>"
      ],
      "text/plain": [
       "           group  gold  silver  bronze\n",
       "2025-01-01     A     1       2       6\n",
       "2025-01-02     B     2       3       3\n",
       "2025-01-03     c     4       1       1\n",
       "2025-01-04     B     2       4       1\n",
       "2025-01-05     A     3       6       3\n",
       "2025-01-06     A     4       7       5\n",
       "2025-01-07     C     5       8       9\n",
       "2025-01-08     C     6       9       6"
      ]
     },
     "execution_count": 476,
     "metadata": {},
     "output_type": "execute_result"
    }
   ],
   "source": [
    "df6= pd.DataFrame({\n",
    "    \"group\":[\"A\", \"B\",\"c\",\"B\",\"A\",\"A\",\"C\",\"C\"],\n",
    "    \"gold\":[1, 2, 4, 2, 3, 4, 5,6],\n",
    "    \"silver\":[2, 3, 1, 4, 6, 7, 8, 9],\n",
    "    \"bronze\":[6, 3, 1, 1, 3, 5, 9, 6]\n",
    "}, index = dates[0:8])\n",
    "df6"
   ]
  },
  {
   "cell_type": "code",
   "execution_count": 478,
   "id": "a26564b3-5f16-4ea0-9c8c-b06f5ca917af",
   "metadata": {},
   "outputs": [
    {
     "data": {
      "text/html": [
       "<div>\n",
       "<style scoped>\n",
       "    .dataframe tbody tr th:only-of-type {\n",
       "        vertical-align: middle;\n",
       "    }\n",
       "\n",
       "    .dataframe tbody tr th {\n",
       "        vertical-align: top;\n",
       "    }\n",
       "\n",
       "    .dataframe thead th {\n",
       "        text-align: right;\n",
       "    }\n",
       "</style>\n",
       "<table border=\"1\" class=\"dataframe\">\n",
       "  <thead>\n",
       "    <tr style=\"text-align: right;\">\n",
       "      <th></th>\n",
       "      <th>gold</th>\n",
       "      <th>silver</th>\n",
       "      <th>bronze</th>\n",
       "    </tr>\n",
       "    <tr>\n",
       "      <th>group</th>\n",
       "      <th></th>\n",
       "      <th></th>\n",
       "      <th></th>\n",
       "    </tr>\n",
       "  </thead>\n",
       "  <tbody>\n",
       "    <tr>\n",
       "      <th>A</th>\n",
       "      <td>8</td>\n",
       "      <td>15</td>\n",
       "      <td>14</td>\n",
       "    </tr>\n",
       "    <tr>\n",
       "      <th>B</th>\n",
       "      <td>4</td>\n",
       "      <td>7</td>\n",
       "      <td>4</td>\n",
       "    </tr>\n",
       "    <tr>\n",
       "      <th>C</th>\n",
       "      <td>11</td>\n",
       "      <td>17</td>\n",
       "      <td>15</td>\n",
       "    </tr>\n",
       "    <tr>\n",
       "      <th>c</th>\n",
       "      <td>4</td>\n",
       "      <td>1</td>\n",
       "      <td>1</td>\n",
       "    </tr>\n",
       "  </tbody>\n",
       "</table>\n",
       "</div>"
      ],
      "text/plain": [
       "       gold  silver  bronze\n",
       "group                      \n",
       "A         8      15      14\n",
       "B         4       7       4\n",
       "C        11      17      15\n",
       "c         4       1       1"
      ]
     },
     "execution_count": 478,
     "metadata": {},
     "output_type": "execute_result"
    }
   ],
   "source": [
    "df6.groupby(\"group\").sum()"
   ]
  },
  {
   "cell_type": "code",
   "execution_count": null,
   "id": "8b639996-cd90-4f49-aff6-19b6beec1ee2",
   "metadata": {},
   "outputs": [],
   "source": []
  },
  {
   "cell_type": "code",
   "execution_count": null,
   "id": "caa76328-c8c9-4c61-812f-0b2222b4ecc0",
   "metadata": {},
   "outputs": [],
   "source": []
  },
  {
   "cell_type": "code",
   "execution_count": null,
   "id": "376f086a-20b8-47a6-8884-f5cc1bb26d3b",
   "metadata": {},
   "outputs": [],
   "source": []
  },
  {
   "cell_type": "code",
   "execution_count": null,
   "id": "383fc248-89a4-433f-9b56-2629eab53e5b",
   "metadata": {},
   "outputs": [],
   "source": []
  },
  {
   "cell_type": "code",
   "execution_count": null,
   "id": "bfbaae62-415d-4990-8377-bee86451a7e6",
   "metadata": {},
   "outputs": [],
   "source": []
  },
  {
   "cell_type": "code",
   "execution_count": null,
   "id": "2801bf6f-60fb-4b32-82c8-c13f7c6fc9aa",
   "metadata": {},
   "outputs": [],
   "source": []
  },
  {
   "cell_type": "code",
   "execution_count": null,
   "id": "ceb784d6-cd4b-4509-a023-f93137492eda",
   "metadata": {},
   "outputs": [],
   "source": []
  },
  {
   "cell_type": "code",
   "execution_count": null,
   "id": "49980b1d-b483-45b5-a249-6742e23966c1",
   "metadata": {},
   "outputs": [],
   "source": []
  },
  {
   "cell_type": "code",
   "execution_count": null,
   "id": "d360bd60-2739-4f76-b569-74d5d7461354",
   "metadata": {},
   "outputs": [],
   "source": []
  },
  {
   "cell_type": "code",
   "execution_count": null,
   "id": "717422a7-b60d-4235-9b4a-1f8ef078132d",
   "metadata": {},
   "outputs": [],
   "source": [
    " "
   ]
  }
 ],
 "metadata": {
  "kernelspec": {
   "display_name": "Python 3 (ipykernel)",
   "language": "python",
   "name": "python3"
  },
  "language_info": {
   "codemirror_mode": {
    "name": "ipython",
    "version": 3
   },
   "file_extension": ".py",
   "mimetype": "text/x-python",
   "name": "python",
   "nbconvert_exporter": "python",
   "pygments_lexer": "ipython3",
   "version": "3.12.7"
  }
 },
 "nbformat": 4,
 "nbformat_minor": 5
}
